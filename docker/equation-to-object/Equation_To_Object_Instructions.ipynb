{
 "cells": [
  {
   "cell_type": "markdown",
   "metadata": {},
   "source": [
    "# Turning An Equation Into An Object\n",
    "#### A description of the series of steps I used to successfully turn a set of parametric equations into a physical object, using Apple Grapher, iPython, Jupyter Notebook, NumPy, Mayavi and Rhinoceros\n",
    "Chances are good that if your education proceeded as far as high school, at some point in your math curriculum you were exposed to the concept of equations, and that you learned how to draw graphs of some simple equations.  If so, you're familiar with the notion that a mathematical thing can have a shape.  You may also have seen examples of this notion applied to three-dimensional shapes.  Given the much-hyped advent of affordable 3D printing, you might wonder if it is possible for someone who knows a little bit of math, and a little bit about computers, to come up with a mathematical thing with an interesting shape, and somehow turn that shape into a physical object.  \n",
    "\n",
    "I wondered that, and I tried to do it, and I succeeded.  I found a lot of information on the Internet, but nothing that described this process end-to-end in a way that worked for me, so I synthesized various bits and pieces I found in various places, and I went through a lot of trial and error and a lot of dead ends and pitfalls.  The whole time, I knew that it might be the case that what I was trying to accomplish was not possible at all, or at the very least not feasible for one non-expert to attempt as a hobby project.  I provide this writeup so that someone else who has wondered the same thing can know ahead of time that the answer is *yes, it is possible*.  \n",
    "\n",
    "This is not a comprehensive set of instructions.  It does not describe in a general way how anyone should go about accomplishing a particular task, in that 1.) it does not describe how to customize the procedure to your own purposes, 2.) it does not describe how to adapt the procedure to varying prerequisites, 3.) it does not include extensive advice on how to recover from errors and 4.) it isn't even necessarily the best way I could have done it.  It is a record of a particular workflow that I know to have worked at least once.  I provide it on the theory that, when one is working with a complex heterogeneous set of interacting tools and parameters, it is often easier to start by replicating a workflow that is known to have worked, and then modifying it to your own purposes, debugging one modification at a time, than it is to develop an entire toolchain on your own, ex nihilo.  "
   ]
  },
  {
   "cell_type": "markdown",
   "metadata": {},
   "source": [
    "#### Prerequisites\n",
    "Here are the things I started with when I embarked on this project:  \n",
    "* A MacBook Pro from 2013, running OS X Yosemite\n",
    "* Some experience scripting with [Python][1]\n",
    "* Fuzzy memories of high school algebra and trigonometry\n",
    "* An account at [Shapeways][2]\n",
    "\n",
    "You can very probably do all the same things on a Windows or Linux PC, and using another 3D printing service or even your own 3D printer, but these are the things I used.  \n",
    "\n",
    " [1]: http://www.python.org/\n",
    " [2]: http://www.shapeways.com/"
   ]
  },
  {
   "cell_type": "markdown",
   "metadata": {},
   "source": [
    "#### Noodling In Grapher\n",
    "Recent versions of OS X come with a program called Grapher.  I have the impression that Grapher has a wide range of impressive capabilities, but I use it as an equation editor and a graphing calculator.  It makes an excellent environment for experimenting with various mathematical things and seeing what they look like.  There are other more elaborate tools out there that will do the same thing, but this one is quick and easy to learn and comes free with every Mac.  \n",
    "\n",
    "Grapher's equation editor lets you make equations that look the same as what you'd write on paper, with horizontal lines for division, superscripts for exponents, etc.  It may be unfamiliar, it's not like a word processor or a spreadsheet, but with a little practice you'll be able to write basic equations quickly and easily.  \n",
    "\n",
    "Open Grapher.  An easy way is to invoke Spotlight with cmd-space, type \"grapher\" and hit enter.  You should see a \"New Graph\" dialog.  Start with a simple 2D graph.  With \"2D Graph\" selected at the top, and \"Default\" selected in the left pane, click \"Choose\".  You'll see a graph window, with the beginnings of an equation already set up for you:  \"y=\".  Type \"x\" then type the \"^\" character.  The \"^\" will create a box for a superscript.  Type \"2\" and the 2 should appear in the superscript box.  Hit enter, and Grapher shows a parabola, the shape of $y=x^{2}$.  \n",
    "\n",
    "Noodle around for a bit.  Click the plus sign in the lower left corner, and select \"New Equation\".  Add an equation and see what it looks like.  If you want to add a horizontal line for a fraction, type \"/\".  With experimentation and Googling, you'll be able to figure out lots of similar shortcuts.  In the Git repository with this notebook, there's a Grapher file called \"basic_curves.gcx\".  It contains a handful of simple equations.  I made it for myself as a kind of catalog;  if I'm playing with a shape and I want to give it a curvature that's symmetric about y=x, I can see at a glance that $y=\\frac{1}{x}$ is a good place to start.  You may want to make a similar catalog for yourself with simple features you want to use as aspects of more complex shapes.  \n",
    "\n",
    "...\n",
    "\n"
   ]
  },
  {
   "cell_type": "markdown",
   "metadata": {},
   "source": [
    "From this ![the equation][equation] to this ![the figure][figure] to this ![the printed object][object]\n",
    "\n",
    "[equation]: images/ruffle_equation.png\n",
    "[figure]: images/wrapped_ruffle.png\n",
    "[object]: images/printed.png"
   ]
  },
  {
   "cell_type": "markdown",
   "metadata": {},
   "source": [
    "#### Translating Equations to NumPy"
   ]
  },
  {
   "cell_type": "code",
   "execution_count": 1,
   "metadata": {
    "collapsed": true
   },
   "outputs": [],
   "source": [
    "%gui wx"
   ]
  },
  {
   "cell_type": "code",
   "execution_count": 2,
   "metadata": {
    "collapsed": false
   },
   "outputs": [
    {
     "name": "stderr",
     "output_type": "stream",
     "text": [
      "WARNING:traits.has_traits:DEPRECATED: traits.has_traits.wrapped_class, 'the 'implements' class advisor has been deprecated. Use the 'provides' class decorator.\n",
      "/usr/lib/python2.7/dist-packages/traits/etsconfig/etsconfig.py:373: UserWarning: Environment variable \"HOME\" not set, setting home directory to /tmp\n",
      "  (environment_variable, parent_directory))\n"
     ]
    }
   ],
   "source": [
    "from numpy import pi, sin, cos, mgrid\n",
    "from mayavi import mlab\n",
    "# You'll get a deprecation warning.  It's safe to ignore it."
   ]
  },
  {
   "cell_type": "code",
   "execution_count": 3,
   "metadata": {
    "collapsed": true
   },
   "outputs": [],
   "source": [
    "def wrap(x, y, z):\n",
    "    x1 = x * cos(y)\n",
    "    y1 = x * sin(y)\n",
    "    z1 = z\n",
    "    return (x1, y1, z1)"
   ]
  },
  {
   "cell_type": "markdown",
   "metadata": {},
   "source": [
    "This equation:  \n",
    "$$\n",
    "\\left[ \\begin{array}{c} x \\\\ y \\\\ z \\end{array} \\right]=\\left[ \\begin{array}{c} \\frac{\\sin \\left( u\\; \\cos \\left( 6v \\right) \\right)}{\\cos \\left( 6v \\right)} \\\\ v\\; +\\; \\left( \\frac{u\\; \\sin \\left( 12v \\right)}{2^{3}} \\right) \\\\ \\frac{1-\\cos \\left( u\\; \\cos \\left( 6v \\right) \\right)}{\\cos \\left( 6v \\right)} \\end{array} \\right]\n",
    "$$\n",
    "can be transdlated into the Python function below:  "
   ]
  },
  {
   "cell_type": "code",
   "execution_count": 4,
   "metadata": {
    "collapsed": true
   },
   "outputs": [],
   "source": [
    "def ruffle(u, v):\n",
    "    x = sin(u * cos(v*6)) / cos(v*6)\n",
    "    y = v + (u * sin(12*v)/2**3)\n",
    "    z = (1 - cos(u * cos(v*6))) / cos(v*6)\n",
    "    return (x, y, z)"
   ]
  },
  {
   "cell_type": "code",
   "execution_count": 5,
   "metadata": {
    "collapsed": true
   },
   "outputs": [],
   "source": [
    "inner = pi/2**5\n",
    "outer = pi/2\n",
    "\n",
    "du, dv = 0.05*pi, 0.01*pi\n",
    "u, v = mgrid[inner:outer+du:du, 0:2*pi+dv:dv]"
   ]
  },
  {
   "cell_type": "markdown",
   "metadata": {},
   "source": [
    "#### Making A `mayavi.mlab` Mesh"
   ]
  },
  {
   "cell_type": "code",
   "execution_count": 6,
   "metadata": {
    "collapsed": false
   },
   "outputs": [
    {
     "data": {
      "text/plain": [
       "<mayavi.modules.surface.Surface at 0x7fcf87453c50>"
      ]
     },
     "execution_count": 6,
     "metadata": {},
     "output_type": "execute_result"
    }
   ],
   "source": [
    "mlab.mesh(*wrap(*ruffle(u, v)))"
   ]
  },
  {
   "cell_type": "markdown",
   "metadata": {},
   "source": [
    "#### Exporting A `.obj` File From Mayavi"
   ]
  },
  {
   "cell_type": "code",
   "execution_count": 7,
   "metadata": {
    "collapsed": true
   },
   "outputs": [],
   "source": [
    "mlab.savefig(\"/data/notebooks/wrapped_ruffle.obj\")"
   ]
  },
  {
   "cell_type": "markdown",
   "metadata": {},
   "source": [
    "#### Offsetting The Mesh And Exporting STL In Blender"
   ]
  },
  {
   "cell_type": "code",
   "execution_count": 8,
   "metadata": {
    "collapsed": false
   },
   "outputs": [
    {
     "data": {
      "text/plain": [
       "0"
      ]
     },
     "execution_count": 8,
     "metadata": {},
     "output_type": "execute_result"
    }
   ],
   "source": [
    "import subprocess\n",
    "subprocess.call([\"blender\", \"--background\", \"--python\", \"/data/examples/solidify.py\"])"
   ]
  },
  {
   "cell_type": "markdown",
   "metadata": {},
   "source": [
    "#### Uploading The `.stl` File To Shapeways For Printing"
   ]
  },
  {
   "cell_type": "code",
   "execution_count": null,
   "metadata": {
    "collapsed": true
   },
   "outputs": [],
   "source": []
  }
 ],
 "metadata": {
  "kernelspec": {
   "display_name": "Python 2",
   "language": "python",
   "name": "python2"
  },
  "language_info": {
   "codemirror_mode": {
    "name": "ipython",
    "version": 2
   },
   "file_extension": ".py",
   "mimetype": "text/x-python",
   "name": "python",
   "nbconvert_exporter": "python",
   "pygments_lexer": "ipython2",
   "version": "2.7.9"
  }
 },
 "nbformat": 4,
 "nbformat_minor": 0
}
